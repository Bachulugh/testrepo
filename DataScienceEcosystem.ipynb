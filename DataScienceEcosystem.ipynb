{
 "cells": [
  {
   "cell_type": "markdown",
   "id": "52162a14-5e7b-4f8d-9172-83ae98ccd07c",
   "metadata": {},
   "source": [
    "# Data Science Tools and Ecosystem"
   ]
  },
  {
   "cell_type": "markdown",
   "id": "4fa75be6-1004-4fb6-90fd-8b1ebd213ca4",
   "metadata": {},
   "source": [
    "In this notebook, Data Science Tools and Ecosystem are summarized."
   ]
  },
  {
   "cell_type": "markdown",
   "id": "f832161e-6572-41f5-befe-2315e5071cb1",
   "metadata": {},
   "source": [
    "**Objectives:**\n",
    "\n",
    "* List popular languages for Data Science \n",
    "* List commonly used libraries by Data Scientists\n",
    "* Show some of the most popular open-source Data Science Tools"
   ]
  },
  {
   "cell_type": "markdown",
   "id": "e637919b-9cde-44ca-bb59-437697eec364",
   "metadata": {},
   "source": [
    "Some of the popular languages that Data Scientists use are:\n",
    "1. Python\n",
    "2. R\n",
    "3. SQL"
   ]
  },
  {
   "cell_type": "markdown",
   "id": "9ef5be02-ab4a-4415-a465-25a7e3512bd7",
   "metadata": {},
   "source": [
    "Some of the commonly used libraries used by Data Scientists include:\n",
    "\n",
    "1. NumPy\n",
    "2. Pandas\n",
    "3. SciKit-learn"
   ]
  },
  {
   "cell_type": "markdown",
   "id": "98e45110-ea21-408c-983c-9d2b0fa9ffae",
   "metadata": {},
   "source": [
    "| Data Science Tools |||\n",
    "| :--- | :--- | :--- |\n",
    "| Jupyter Notebooks | \n",
    "| R Studio | \n",
    "| Zeppelin Notebooks |"
   ]
  },
  {
   "cell_type": "markdown",
   "id": "4e15ecbe-9da9-493a-b96d-5558bf4cdab3",
   "metadata": {
    "tags": []
   },
   "source": [
    "### Below are a few examples of evaluating arithmetic expressions in Python."
   ]
  },
  {
   "cell_type": "code",
   "execution_count": 3,
   "id": "47d4d9a7-60bd-48f8-8fc7-0750f4af271d",
   "metadata": {
    "tags": []
   },
   "outputs": [
    {
     "data": {
      "text/plain": [
       "17"
      ]
     },
     "execution_count": 3,
     "metadata": {},
     "output_type": "execute_result"
    }
   ],
   "source": [
    "# This a simple artihmetic expression to mutiply then add integers\n",
    "\n",
    "(3*4)+5"
   ]
  },
  {
   "cell_type": "code",
   "execution_count": 4,
   "id": "2eb30d3d-a9f7-4f11-8074-6264180a8852",
   "metadata": {
    "tags": []
   },
   "outputs": [
    {
     "data": {
      "text/plain": [
       "3.3333333333333335"
      ]
     },
     "execution_count": 4,
     "metadata": {},
     "output_type": "execute_result"
    }
   ],
   "source": [
    "# This will convert 200 minutes to hours by diving by 60\n",
    "\n",
    "(200/60)"
   ]
  },
  {
   "cell_type": "markdown",
   "id": "0e87f102-9654-4538-99e7-b2c603899660",
   "metadata": {},
   "source": [
    "## Author \n",
    "Bacle Fowler "
   ]
  }
 ],
 "metadata": {
  "kernelspec": {
   "display_name": "Python",
   "language": "python",
   "name": "conda-env-python-py"
  },
  "language_info": {
   "codemirror_mode": {
    "name": "ipython",
    "version": 3
   },
   "file_extension": ".py",
   "mimetype": "text/x-python",
   "name": "python",
   "nbconvert_exporter": "python",
   "pygments_lexer": "ipython3",
   "version": "3.7.12"
  }
 },
 "nbformat": 4,
 "nbformat_minor": 5
}
